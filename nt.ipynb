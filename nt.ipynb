{
  "nbformat": 4,
  "nbformat_minor": 0,
  "metadata": {
    "colab": {
      "name": "nt.ipynb",
      "provenance": [],
      "authorship_tag": "ABX9TyNN4qVrFoUKzQyQbn75S4Kf",
      "include_colab_link": true
    },
    "kernelspec": {
      "name": "python3",
      "display_name": "Python 3"
    },
    "language_info": {
      "name": "python"
    }
  },
  "cells": [
    {
      "cell_type": "markdown",
      "metadata": {
        "id": "view-in-github",
        "colab_type": "text"
      },
      "source": [
        "<a href=\"https://colab.research.google.com/github/hhboorstein/number-theory/blob/main/nt.ipynb\" target=\"_parent\"><img src=\"https://colab.research.google.com/assets/colab-badge.svg\" alt=\"Open In Colab\"/></a>"
      ]
    },
    {
      "cell_type": "markdown",
      "source": [
        "# Prime Projects"
      ],
      "metadata": {
        "id": "PJBA7KIoQAbv"
      }
    },
    {
      "cell_type": "markdown",
      "source": [
        "## Prime Number Generator\n",
        "\n",
        "Calculates primes up to a user-defined bound. Checks each positive integer for prime divisibility, and appends the candidate if prime."
      ],
      "metadata": {
        "id": "dspYWbEbQAEL"
      }
    },
    {
      "cell_type": "code",
      "source": [
        "import numpy as np\n",
        "\n",
        "def prime_list(bound):\n",
        "  '''Make a list of prime numbers\n",
        "  up to bound. Requires numpy package.'''\n",
        "  primes=[]\n",
        "  for i in range(2,bound+1):\n",
        "    proceed=True\n",
        "    for p in primes:\n",
        "      if np.sqrt(i)<p:\n",
        "        break\n",
        "      if i%p==0:\n",
        "        proceed=False\n",
        "        break\n",
        "      else:\n",
        "        continue\n",
        "    if proceed==True:\n",
        "      primes.append(i)\n",
        "  return primes"
      ],
      "metadata": {
        "id": "5ENX4y-8QiLs"
      },
      "execution_count": 1,
      "outputs": []
    },
    {
      "cell_type": "code",
      "source": [
        "print(prime_list(100))"
      ],
      "metadata": {
        "colab": {
          "base_uri": "https://localhost:8080/"
        },
        "id": "8mrziNkNQpjT",
        "outputId": "34790d79-168f-456f-cf45-049557733a79"
      },
      "execution_count": 4,
      "outputs": [
        {
          "output_type": "stream",
          "name": "stdout",
          "text": [
            "[2, 3, 5, 7, 11, 13, 17, 19, 23, 29, 31, 37, 41, 43, 47, 53, 59, 61, 67, 71, 73, 79, 83, 89, 97]\n"
          ]
        }
      ]
    },
    {
      "cell_type": "markdown",
      "source": [
        "## Sieve of Eratosthenes\n",
        "\n",
        "Another technique for calculating prime numbers up to a user-specified bound. The difference here is that all multiples of primes are sieved out at once, and what's left must be prime."
      ],
      "metadata": {
        "id": "5iUUcT2hRbNN"
      }
    },
    {
      "cell_type": "code",
      "source": [
        "def sieve(bound):\n",
        "  '''Sieves out primes\n",
        "  up to bound.'''\n",
        "  bound +=1\n",
        "  primes=range(2,bound) #this will only contain primes at the end\n",
        "  for i in range(2,bound):\n",
        "    if i**2>bound: #more optimized halting condition\n",
        "      break\n",
        "    if i in primes:\n",
        "      mult_i=[i*j for j in range(i,(bound//i)+1)] #list of prime mults\n",
        "      primes=[n for n in primes if n not in mult_i] #sieve out mult_i\n",
        "  return primes"
      ],
      "metadata": {
        "id": "q8qjPekSQupX"
      },
      "execution_count": 5,
      "outputs": []
    },
    {
      "cell_type": "code",
      "source": [
        "print(sieve(100))"
      ],
      "metadata": {
        "colab": {
          "base_uri": "https://localhost:8080/"
        },
        "id": "09SK6zgqTBhf",
        "outputId": "f48b4e55-1f18-45fd-a027-052ffb6f2bec"
      },
      "execution_count": 7,
      "outputs": [
        {
          "output_type": "stream",
          "name": "stdout",
          "text": [
            "[2, 3, 5, 7, 11, 13, 17, 19, 23, 29, 31, 37, 41, 43, 47, 53, 59, 61, 67, 71, 73, 79, 83, 89, 97]\n"
          ]
        }
      ]
    },
    {
      "cell_type": "code",
      "source": [
        "print(sieve(100)==prime_list(100))"
      ],
      "metadata": {
        "colab": {
          "base_uri": "https://localhost:8080/"
        },
        "id": "qTmts_yKTDUy",
        "outputId": "360bc62d-c4e0-42a1-f59c-b6e78b8d29f3"
      },
      "execution_count": 8,
      "outputs": [
        {
          "output_type": "stream",
          "name": "stdout",
          "text": [
            "True\n"
          ]
        }
      ]
    },
    {
      "cell_type": "code",
      "source": [
        "#which is faster?\n",
        "import time\n",
        "\n",
        "a=10000\n",
        "\n",
        "t0=time.time()\n",
        "prime_list(a)\n",
        "t1=time.time()\n",
        "print('prime_list takes',t1-t0,'seconds')\n",
        "\n",
        "t2=time.time()\n",
        "sieve(a)\n",
        "t3=time.time()\n",
        "print('sieve takes', t3-t2,'seconds')"
      ],
      "metadata": {
        "colab": {
          "base_uri": "https://localhost:8080/"
        },
        "id": "LGuchCPkTKVT",
        "outputId": "0e5c3f79-fb1d-481e-9b64-97af59fea443"
      },
      "execution_count": 13,
      "outputs": [
        {
          "output_type": "stream",
          "name": "stdout",
          "text": [
            "prime_list takes 0.089752197265625 seconds\n",
            "sieve takes 1.0314862728118896 seconds\n"
          ]
        }
      ]
    },
    {
      "cell_type": "markdown",
      "source": [
        "It looks like the prime_list function is faster than the sieve approach. For primes up to 100,000, prime_list took one second and I interrupted sieve after a minute. Huge difference. There are surely ways to further optimize both."
      ],
      "metadata": {
        "id": "AwfWIYZlURxi"
      }
    },
    {
      "cell_type": "code",
      "source": [
        ""
      ],
      "metadata": {
        "id": "9RVQOZhMTneF"
      },
      "execution_count": null,
      "outputs": []
    }
  ]
}