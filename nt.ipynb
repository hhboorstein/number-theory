{
  "nbformat": 4,
  "nbformat_minor": 0,
  "metadata": {
    "colab": {
      "name": "nt.ipynb",
      "provenance": [],
      "collapsed_sections": [
        "5iUUcT2hRbNN",
        "-dshYwum6Q21",
        "Yo2j-DMS9jh4",
        "ICURShCBnJn_",
        "0pBRJOOn76qn",
        "QfwvxpW3NUsL",
        "_9PZzyhQ78Xl",
        "EOyoyYmvEiLS",
        "uxoTEmI8zrT6"
      ],
      "toc_visible": true,
      "authorship_tag": "ABX9TyORDit9PK4kYyNlgveG6q54",
      "include_colab_link": true
    },
    "kernelspec": {
      "name": "python3",
      "display_name": "Python 3"
    },
    "language_info": {
      "name": "python"
    }
  },
  "cells": [
    {
      "cell_type": "markdown",
      "metadata": {
        "id": "view-in-github",
        "colab_type": "text"
      },
      "source": [
        "<a href=\"https://colab.research.google.com/github/hhboorstein/number-theory/blob/main/nt.ipynb\" target=\"_parent\"><img src=\"https://colab.research.google.com/assets/colab-badge.svg\" alt=\"Open In Colab\"/></a>"
      ]
    },
    {
      "cell_type": "markdown",
      "source": [
        "# Prime Projects"
      ],
      "metadata": {
        "id": "PJBA7KIoQAbv"
      }
    },
    {
      "cell_type": "markdown",
      "source": [
        "## Prime Number List\n",
        "\n",
        "Calculates primes up to a user-defined bound. Checks each positive integer for prime divisibility, and appends the candidate if prime."
      ],
      "metadata": {
        "id": "dspYWbEbQAEL"
      }
    },
    {
      "cell_type": "code",
      "source": [
        "import numpy as np\n",
        "\n",
        "def prime_list(bound):\n",
        "  '''Make a list of prime numbers\n",
        "  up to bound. Requires numpy package.'''\n",
        "  primes=[]\n",
        "  for i in range(2,bound+1):\n",
        "    proceed=True\n",
        "    for p in primes:\n",
        "      if np.sqrt(i)<p:\n",
        "        break\n",
        "      if i%p==0:\n",
        "        proceed=False\n",
        "        break\n",
        "      else:\n",
        "        continue\n",
        "    if proceed==True:\n",
        "      primes.append(i)\n",
        "  return primes"
      ],
      "metadata": {
        "id": "5ENX4y-8QiLs"
      },
      "execution_count": 84,
      "outputs": []
    },
    {
      "cell_type": "code",
      "source": [
        "print(prime_list(1000))"
      ],
      "metadata": {
        "colab": {
          "base_uri": "https://localhost:8080/"
        },
        "id": "8mrziNkNQpjT",
        "outputId": "2939642e-7716-4644-dd83-de7651a08439"
      },
      "execution_count": null,
      "outputs": [
        {
          "output_type": "stream",
          "name": "stdout",
          "text": [
            "[2, 3, 5, 7, 11, 13, 17, 19, 23, 29, 31, 37, 41, 43, 47, 53, 59, 61, 67, 71, 73, 79, 83, 89, 97, 101, 103, 107, 109, 113, 127, 131, 137, 139, 149, 151, 157, 163, 167, 173, 179, 181, 191, 193, 197, 199, 211, 223, 227, 229, 233, 239, 241, 251, 257, 263, 269, 271, 277, 281, 283, 293, 307, 311, 313, 317, 331, 337, 347, 349, 353, 359, 367, 373, 379, 383, 389, 397, 401, 409, 419, 421, 431, 433, 439, 443, 449, 457, 461, 463, 467, 479, 487, 491, 499, 503, 509, 521, 523, 541, 547, 557, 563, 569, 571, 577, 587, 593, 599, 601, 607, 613, 617, 619, 631, 641, 643, 647, 653, 659, 661, 673, 677, 683, 691, 701, 709, 719, 727, 733, 739, 743, 751, 757, 761, 769, 773, 787, 797, 809, 811, 821, 823, 827, 829, 839, 853, 857, 859, 863, 877, 881, 883, 887, 907, 911, 919, 929, 937, 941, 947, 953, 967, 971, 977, 983, 991, 997]\n"
          ]
        }
      ]
    },
    {
      "cell_type": "markdown",
      "source": [
        "## Sieve of Eratosthenes\n",
        "\n",
        "Another technique for calculating prime numbers up to a user-specified bound. The difference here is that all multiples of primes are sieved out at once, and what's left must be prime."
      ],
      "metadata": {
        "id": "5iUUcT2hRbNN"
      }
    },
    {
      "cell_type": "code",
      "source": [
        "def sieve(bound):\n",
        "  '''Sieves out primes\n",
        "  up to bound.'''\n",
        "  bound +=1\n",
        "  primes=range(2,bound) #this will only contain primes at the end\n",
        "  for i in range(2,bound):\n",
        "    if i**2>bound: #more optimized halting condition\n",
        "      break\n",
        "    if i in primes:\n",
        "      mult_i=[i*j for j in range(i,(bound//i)+1)] #list of prime mults\n",
        "      primes=[n for n in primes if n not in mult_i] #sieve out mult_i\n",
        "  return primes"
      ],
      "metadata": {
        "id": "q8qjPekSQupX"
      },
      "execution_count": null,
      "outputs": []
    },
    {
      "cell_type": "code",
      "source": [
        "print(sieve(100))"
      ],
      "metadata": {
        "colab": {
          "base_uri": "https://localhost:8080/"
        },
        "id": "09SK6zgqTBhf",
        "outputId": "f48b4e55-1f18-45fd-a027-052ffb6f2bec"
      },
      "execution_count": null,
      "outputs": [
        {
          "output_type": "stream",
          "name": "stdout",
          "text": [
            "[2, 3, 5, 7, 11, 13, 17, 19, 23, 29, 31, 37, 41, 43, 47, 53, 59, 61, 67, 71, 73, 79, 83, 89, 97]\n"
          ]
        }
      ]
    },
    {
      "cell_type": "code",
      "source": [
        "print(sieve(100)==prime_list(100))"
      ],
      "metadata": {
        "colab": {
          "base_uri": "https://localhost:8080/"
        },
        "id": "qTmts_yKTDUy",
        "outputId": "360bc62d-c4e0-42a1-f59c-b6e78b8d29f3"
      },
      "execution_count": null,
      "outputs": [
        {
          "output_type": "stream",
          "name": "stdout",
          "text": [
            "True\n"
          ]
        }
      ]
    },
    {
      "cell_type": "code",
      "source": [
        "#which is faster?\n",
        "import time\n",
        "\n",
        "a=10000\n",
        "\n",
        "t0=time.time()\n",
        "prime_list(a)\n",
        "t1=time.time()\n",
        "print('prime_list takes',t1-t0,'seconds')\n",
        "\n",
        "t2=time.time()\n",
        "sieve(a)\n",
        "t3=time.time()\n",
        "print('sieve takes', t3-t2,'seconds')"
      ],
      "metadata": {
        "colab": {
          "base_uri": "https://localhost:8080/"
        },
        "id": "LGuchCPkTKVT",
        "outputId": "0e5c3f79-fb1d-481e-9b64-97af59fea443"
      },
      "execution_count": null,
      "outputs": [
        {
          "output_type": "stream",
          "name": "stdout",
          "text": [
            "prime_list takes 0.089752197265625 seconds\n",
            "sieve takes 1.0314862728118896 seconds\n"
          ]
        }
      ]
    },
    {
      "cell_type": "markdown",
      "source": [
        "It looks like the prime_list function is faster than the sieve approach. For primes up to 100,000, prime_list took one second and I interrupted sieve after a minute. Huge difference. There are surely ways to further optimize both."
      ],
      "metadata": {
        "id": "AwfWIYZlURxi"
      }
    },
    {
      "cell_type": "markdown",
      "source": [
        "## Twin Primes\n",
        "\n",
        "Using the prime_list function, the following counts the number of twin prime pairs up to a bound and records the pairs as tuples. (Requires declaration of prime_list.)"
      ],
      "metadata": {
        "id": "-dshYwum6Q21"
      }
    },
    {
      "cell_type": "code",
      "source": [
        "print(\"We will be finding the number of twin primes, \\n i.e., primes that differ by 2, \\n up to a given bound.\")\n",
        "b=int(input(\"Input bound: \"))\n",
        "primes=prime_list(b)\n",
        "twins=[]\n",
        "count=0\n",
        "for i in range(len(primes)-1):\n",
        "  if primes[i]+2==primes[i+1]:\n",
        "    count+=1\n",
        "    twins.append((primes[i],primes[i+1]))\n",
        "print(\"There are\", count, \"pairs of twin primes up to\", b)\n",
        "print(\"The twin primes less than\", b, \"are:\")\n",
        "print(twins)"
      ],
      "metadata": {
        "colab": {
          "base_uri": "https://localhost:8080/"
        },
        "id": "9RVQOZhMTneF",
        "outputId": "359733f4-30a9-44b7-a83c-0f8350086707"
      },
      "execution_count": null,
      "outputs": [
        {
          "output_type": "stream",
          "name": "stdout",
          "text": [
            "We will be finding the number of twin primes, \n",
            " i.e., primes that differ by 2, \n",
            " up to a given bound.\n",
            "Input bound: 100\n",
            "There are 8 pairs of twin primes up to 100\n",
            "The twin primes less than 100 are:\n",
            "[(3, 5), (5, 7), (11, 13), (17, 19), (29, 31), (41, 43), (59, 61), (71, 73)]\n"
          ]
        }
      ]
    },
    {
      "cell_type": "markdown",
      "source": [
        "## Primality Tests\n",
        "\n",
        "Primality tests are probabilistic tests based in number theory. Such tests determine whether a given positive integer is *likely* to be prime. More precisely, an integer that passes a probable primality test has a property shared by all primes but not most composites. These tests are not guarantees, but the increased sophistication in modern techniques provides high probability of accuracy.\n",
        "\n",
        "Included is also a deterministic test (labelled as such)."
      ],
      "metadata": {
        "id": "IQ0_iJfB72gh"
      }
    },
    {
      "cell_type": "markdown",
      "source": [
        "### Fermat\n",
        "\n",
        "This test is based on Fermat's Little Theorem. While the test is old, the theorem is still the backbone of many modern tests."
      ],
      "metadata": {
        "id": "Yo2j-DMS9jh4"
      }
    },
    {
      "cell_type": "code",
      "source": [
        "import numpy as np\n",
        "\n",
        "def fermat(n):\n",
        "  '''Tests a positive integer\n",
        "  n>3 for probable primality.'''\n",
        "  if n <= 3 or n%2==0:\n",
        "    raise Exception('test only valid for odd n>3')\n",
        "  a=0\n",
        "  while not gcd(a,n)==1: #finds random a coprime to n\n",
        "    a=np.random.randint(1,n)\n",
        "  test=pow(a,n-1,n)\n",
        "  if test==1:\n",
        "    print('{} is a probable prime with witness {}.'.format(n,a))\n",
        "  else:\n",
        "    print('{} is composite.'.format(n))"
      ],
      "metadata": {
        "id": "NSfGWUCB99ah"
      },
      "execution_count": 1,
      "outputs": []
    },
    {
      "cell_type": "code",
      "source": [
        "fermat(29)"
      ],
      "metadata": {
        "colab": {
          "base_uri": "https://localhost:8080/"
        },
        "id": "Q-Es8hqm_-yl",
        "outputId": "e4edf571-112a-4c36-f6f6-152109e4e71c"
      },
      "execution_count": 6,
      "outputs": [
        {
          "output_type": "stream",
          "name": "stdout",
          "text": [
            "29 is a probable prime with witness 9.\n"
          ]
        }
      ]
    },
    {
      "cell_type": "markdown",
      "source": [
        "It is possible that a number could pass for a given witness, so it is recommended to repeat the test several times with different witnesses. What's worse, there exists infinitely many Carmichael numbers, composite numbers that pass the Fermat primality test for all witnesses. Again, this test is not a guarantee."
      ],
      "metadata": {
        "id": "YGXVlMQf_-BW"
      }
    },
    {
      "cell_type": "code",
      "source": [
        "# 1105 is a Carmichael number\n",
        "fermat(1105)"
      ],
      "metadata": {
        "colab": {
          "base_uri": "https://localhost:8080/"
        },
        "id": "ydEBbw8EWhLT",
        "outputId": "c3cf72ea-1233-4af7-d5e1-44115e247500"
      },
      "execution_count": 111,
      "outputs": [
        {
          "output_type": "stream",
          "name": "stdout",
          "text": [
            "1105 is a probable prime with witness 271.\n"
          ]
        }
      ]
    },
    {
      "cell_type": "markdown",
      "source": [
        "### Selfridge Heuristic\n",
        "\n",
        "John Selfridge suggested the following: For an odd integer $p$ such that $p\\equiv\\pm2\\text{ mod }5$, then $p$ is prime if $2^{p-1}\\equiv 1\\text{ mod }p$ and $f_{p+1}\\equiv 0\\text{ mod } p$, where $f_n$ is the $n^{th}$ Fibonacci number. The first condition comes from the Fermat test (see above). This result is entirely conjectural, but there has yet to be a counterexaple. See [here](https://en.wikipedia.org/wiki/Primality_test#Heuristic_tests) and [here](https://en.wikipedia.org/wiki/John_Selfridge#Selfridge's_conjecture_about_primality_testing) for more."
      ],
      "metadata": {
        "id": "ICURShCBnJn_"
      }
    },
    {
      "cell_type": "code",
      "source": [
        "from numpy import gcd\n",
        "\n",
        "def selfridge(n):\n",
        "  '''Selfridge primality heuristic.'''\n",
        "  if n < 3 or n%2==0:\n",
        "    raise Exception('test only valid for odd n>1')\n",
        "  if not (n%5==2 or n%5==3):\n",
        "    raise Exception('not cong 2,3 mod 5')\n",
        "  if not pow(2,n-1,n)==1:\n",
        "    return False\n",
        "  if fd_fib(n+1)%n==0: \n",
        "    print(\"It's possible...\")\n",
        "    return True\n",
        "  else:\n",
        "    return False"
      ],
      "metadata": {
        "id": "HCyScQDenIgx"
      },
      "execution_count": 124,
      "outputs": []
    },
    {
      "cell_type": "code",
      "source": [
        "selfridge(37)"
      ],
      "metadata": {
        "colab": {
          "base_uri": "https://localhost:8080/"
        },
        "id": "22eMoUMCs-3g",
        "outputId": "decd0ac1-c983-4ded-f980-082bb8da9ebc"
      },
      "execution_count": 122,
      "outputs": [
        {
          "output_type": "stream",
          "name": "stdout",
          "text": [
            "It's possible...\n"
          ]
        },
        {
          "output_type": "execute_result",
          "data": {
            "text/plain": [
              "True"
            ]
          },
          "metadata": {},
          "execution_count": 122
        }
      ]
    },
    {
      "cell_type": "code",
      "source": [
        "selfridge(1567)"
      ],
      "metadata": {
        "colab": {
          "base_uri": "https://localhost:8080/"
        },
        "id": "CWuny_QftUbe",
        "outputId": "e75a920f-c741-486a-fad9-0becd9be26c2"
      },
      "execution_count": 123,
      "outputs": [
        {
          "output_type": "stream",
          "name": "stdout",
          "text": [
            "It's possible...\n"
          ]
        },
        {
          "output_type": "execute_result",
          "data": {
            "text/plain": [
              "True"
            ]
          },
          "metadata": {},
          "execution_count": 123
        }
      ]
    },
    {
      "cell_type": "markdown",
      "source": [
        "### Miller-Rabin\n",
        "\n",
        "[See here for more.](https://en.wikipedia.org/wiki/Miller%E2%80%93Rabin_primality_test)"
      ],
      "metadata": {
        "id": "0pBRJOOn76qn"
      }
    },
    {
      "cell_type": "code",
      "source": [
        "import numpy as np\n",
        "\n",
        "def mr_test(n):\n",
        "  '''Miller-Rabin test for\n",
        "  probable primality.'''\n",
        "  if n<=2 or n%2==0:\n",
        "    raise Exception('test only valid for odd n>2')\n",
        "  # write n=(2**s)*d+1\n",
        "  b=n-1; s=0\n",
        "  while b%2==0:\n",
        "    b=b//2\n",
        "    s+=1\n",
        "  d=b\n",
        "  a=np.random.randint(1,n)\n",
        "  test=pow(a,d,n)\n",
        "  if test==1 or test==(n-1):\n",
        "    print('{} is a probable prime with witness {}.'.format(n,a))\n",
        "    return\n",
        "  for r in range(1,s): # r=0 case above\n",
        "    if pow(a,(2**r)*d,n)==(n-1):\n",
        "      print('{} is a probable prime with witness {}.'.format(n,a))\n",
        "      return\n",
        "  print('{} is composite.'.format(n))"
      ],
      "metadata": {
        "id": "bsJsooVX8AwV"
      },
      "execution_count": 5,
      "outputs": []
    },
    {
      "cell_type": "markdown",
      "source": [
        "Note, these test still do fail. 323=17*19, but it passes the test occasionally; see below. "
      ],
      "metadata": {
        "id": "u-AErrbnLLCl"
      }
    },
    {
      "cell_type": "code",
      "source": [
        "i=0\n",
        "while i<10:\n",
        "  mr_test(323)\n",
        "  i+=1"
      ],
      "metadata": {
        "colab": {
          "base_uri": "https://localhost:8080/"
        },
        "id": "Kglnv816EkyR",
        "outputId": "6af2f176-6e83-45c2-a53f-fcf1d8afd4c3"
      },
      "execution_count": null,
      "outputs": [
        {
          "output_type": "stream",
          "name": "stdout",
          "text": [
            "323 is composite.\n",
            "323 is a probable prime with witness 1.\n",
            "323 is composite.\n",
            "323 is composite.\n",
            "323 is composite.\n",
            "323 is composite.\n",
            "323 is composite.\n",
            "323 is composite.\n",
            "323 is composite.\n",
            "323 is composite.\n"
          ]
        }
      ]
    },
    {
      "cell_type": "markdown",
      "source": [
        "This is why it is important to run a test several times with different bases. With the Miller-Rabin test, a composite number cannot produce a false positive to all bases simultaneously (unlike Carmichael numbers with the Fermat test), but testing all bases would be computationally taxing. There are several snazzy improvements to cut down on computation time and make the test deterministic."
      ],
      "metadata": {
        "id": "pVvl8coTMMtr"
      }
    },
    {
      "cell_type": "markdown",
      "source": [
        "### Deterministic Miller-Rabin\n",
        "\n",
        "A speed enhancement in this test relies on the truth of (part of) the Generalized Riemann Hypothesis."
      ],
      "metadata": {
        "id": "QfwvxpW3NUsL"
      }
    },
    {
      "cell_type": "code",
      "source": [
        "import numpy as np\n",
        "\n",
        "def det_mr_test(n):\n",
        "  '''Deterministic Miller-Rabin\n",
        "  primality test.'''\n",
        "  if n<=2 or n%2==0:\n",
        "    raise Exception('test only valid for odd n>2')\n",
        "  b=n-1; s=0\n",
        "  while b%2==0:\n",
        "    b=b//2\n",
        "    s+=1\n",
        "  d=b\n",
        "  for a in range(2,min(n-2,int(2*(np.log(n)**2)))+1):\n",
        "    x=pow(a,d,n)\n",
        "    if x==1 or x==(n-1):\n",
        "      continue\n",
        "    flag=False\n",
        "    for r in range(1,s):\n",
        "      if pow(a,(2**r)*d,n)==(n-1):\n",
        "        flag=True\n",
        "        break\n",
        "    if flag==False:\n",
        "      print('{} is composite.'.format(n))\n",
        "      return\n",
        "  print('{} is prime.'.format(n))\n",
        "      \n"
      ],
      "metadata": {
        "id": "aLr1DxOtNUNU"
      },
      "execution_count": 18,
      "outputs": []
    },
    {
      "cell_type": "code",
      "source": [
        "det_mr_test(3517)"
      ],
      "metadata": {
        "colab": {
          "base_uri": "https://localhost:8080/"
        },
        "id": "fq7XkD-9HTIQ",
        "outputId": "1168666c-73c3-44e0-a726-2260da64973a"
      },
      "execution_count": 7,
      "outputs": [
        {
          "output_type": "stream",
          "name": "stdout",
          "text": [
            "3517 is prime.\n"
          ]
        }
      ]
    },
    {
      "cell_type": "code",
      "source": [
        "# 1105 is a Carmichael number\n",
        "det_mr_test(1105)"
      ],
      "metadata": {
        "colab": {
          "base_uri": "https://localhost:8080/"
        },
        "id": "oKSajb4VPr5V",
        "outputId": "0df6a055-10f6-4f1e-9b9a-ae91ac9568f3"
      },
      "execution_count": 8,
      "outputs": [
        {
          "output_type": "stream",
          "name": "stdout",
          "text": [
            "1105 is composite.\n"
          ]
        }
      ]
    },
    {
      "cell_type": "markdown",
      "source": [
        "# Collatz\n",
        "\n",
        "The Collatz conjecture is an open problem in number theory that is simple to state. For a positive integer $n$, we consider the following function: $f(n)=n/2$ if $n$ is even, otherwise $f(n)=3n+1$.\n",
        "\n",
        "It seems that after sufficiently many steps, any positive integer will reach $1$. It is unknown whether this is indeed true for all positive integers. While [experimental evidence](https://en.wikipedia.org/wiki/Collatz_conjecture#Experimental_evidence) shows that all *reasonable* numbers do reach $1$, a max_step halting condition is included for completeness and the practicalities of limited computing resources."
      ],
      "metadata": {
        "id": "_9PZzyhQ78Xl"
      }
    },
    {
      "cell_type": "code",
      "source": [
        "def collatz(n,max_step):\n",
        "  '''\n",
        "  Runs the Collatz function\n",
        "  on n; returns number of steps to 1.\n",
        "  Will time out after max_step.\n",
        "  '''\n",
        "  #Hardcode n=0 case so it doesn't\n",
        "  #have to loop max_step times to get step=0\n",
        "  if n==0:\n",
        "    return 0\n",
        "  #general logic\n",
        "  step=0\n",
        "  while n!=1:\n",
        "    #timeout condition\n",
        "    if step>max_step:\n",
        "      return 0\n",
        "    #collatz function\n",
        "    if n%2==0:\n",
        "      n=n//2\n",
        "    else:\n",
        "      n=3*n+1\n",
        "    step+=1\n",
        "  return step"
      ],
      "metadata": {
        "id": "ApK27mbX7-KA"
      },
      "execution_count": 1,
      "outputs": []
    },
    {
      "cell_type": "code",
      "source": [
        "import numpy as np\n",
        "import pandas as pd\n",
        "\n",
        "print(\"This will graph the number of steps it takes \\n for integers to complete the Collatz procedure.\")\n",
        "bound=int(input(\"Calculate for integers up to: \"))\n",
        "u=int(input(\"Upper bound of computation for each integer: \"))\n",
        "\n",
        "#Create step list\n",
        "step_list=[collatz(n,u) for n in range(bound+1)]\n",
        "\n",
        "#generate dataframe\n",
        "#two columns: integers, steps\n",
        "df=pd.DataFrame([[i,step_list[i]] for i in range(bound+1)],columns=['Int','Steps'])\n",
        "\n",
        "#dotsize helps with graph readability\n",
        "dotsize=1000/bound\n",
        "\n",
        "#plot data\n",
        "col=df.plot.scatter('Int','Steps',s=dotsize,c='DarkBlue',title='Number of Collatz steps')"
      ],
      "metadata": {
        "colab": {
          "base_uri": "https://localhost:8080/",
          "height": 366
        },
        "id": "GER2BDsw-PXT",
        "outputId": "2327bb74-bcb6-421d-84c8-3309ab894447"
      },
      "execution_count": 2,
      "outputs": [
        {
          "name": "stdout",
          "output_type": "stream",
          "text": [
            "This will graph the number of steps it takes \n",
            " for integers to complete the Collatz procedure.\n",
            "Calculate for integers up to: 100000\n",
            "Upper bound of computation for each integer: 400\n"
          ]
        },
        {
          "output_type": "display_data",
          "data": {
            "text/plain": [
              "<Figure size 432x288 with 1 Axes>"
            ],
            "image/png": "[encoded data removed]"
          },
          "metadata": {
            "needs_background": "light"
          }
        }
      ]
    },
    {
      "cell_type": "code",
      "source": [
        "import seaborn as sns\n",
        "import matplotlib.pyplot as plt\n",
        "\n",
        "sns.set_theme()\n",
        "\n",
        "sns.histplot(data=df['Steps'])\n",
        "plt.show()"
      ],
      "metadata": {
        "colab": {
          "base_uri": "https://localhost:8080/",
          "height": 285
        },
        "id": "np5K0933qHqB",
        "outputId": "c1086fed-c628-4d88-a6aa-c02fcc3d577d"
      },
      "execution_count": 6,
      "outputs": [
        {
          "output_type": "display_data",
          "data": {
            "text/plain": [
              "<Figure size 432x288 with 1 Axes>"
            ],
            "image/png": "[encoded data removed]"
          },
          "metadata": {}
        }
      ]
    },
    {
      "cell_type": "code",
      "source": [
        "df.describe()"
      ],
      "metadata": {
        "colab": {
          "base_uri": "https://localhost:8080/",
          "height": 300
        },
        "id": "Jz8CP2OKranw",
        "outputId": "d9ef5f67-9d8b-4683-822f-790b038518c7"
      },
      "execution_count": 7,
      "outputs": [
        {
          "output_type": "execute_result",
          "data": {
            "text/plain": [
              "                 Int          Steps\n",
              "count  100001.000000  100001.000000\n",
              "mean    50000.000000     107.537325\n",
              "std     28867.946472      51.366787\n",
              "min         0.000000       0.000000\n",
              "25%     25000.000000      65.000000\n",
              "50%     50000.000000      99.000000\n",
              "75%     75000.000000     146.000000\n",
              "max    100000.000000     350.000000"
            ],
            "text/html": [
              "\n",
              "  <div id=\"df-28fa9f02-fc1c-474c-8693-524da4f25ef6\">\n",
              "    <div class=\"colab-df-container\">\n",
              "      <div>\n",
              "<style scoped>\n",
              "    .dataframe tbody tr th:only-of-type {\n",
              "        vertical-align: middle;\n",
              "    }\n",
              "\n",
              "    .dataframe tbody tr th {\n",
              "        vertical-align: top;\n",
              "    }\n",
              "\n",
              "    .dataframe thead th {\n",
              "        text-align: right;\n",
              "    }\n",
              "</style>\n",
              "<table border=\"1\" class=\"dataframe\">\n",
              "  <thead>\n",
              "    <tr style=\"text-align: right;\">\n",
              "      <th></th>\n",
              "      <th>Int</th>\n",
              "      <th>Steps</th>\n",
              "    </tr>\n",
              "  </thead>\n",
              "  <tbody>\n",
              "    <tr>\n",
              "      <th>count</th>\n",
              "      <td>100001.000000</td>\n",
              "      <td>100001.000000</td>\n",
              "    </tr>\n",
              "    <tr>\n",
              "      <th>mean</th>\n",
              "      <td>50000.000000</td>\n",
              "      <td>107.537325</td>\n",
              "    </tr>\n",
              "    <tr>\n",
              "      <th>std</th>\n",
              "      <td>28867.946472</td>\n",
              "      <td>51.366787</td>\n",
              "    </tr>\n",
              "    <tr>\n",
              "      <th>min</th>\n",
              "      <td>0.000000</td>\n",
              "      <td>0.000000</td>\n",
              "    </tr>\n",
              "    <tr>\n",
              "      <th>25%</th>\n",
              "      <td>25000.000000</td>\n",
              "      <td>65.000000</td>\n",
              "    </tr>\n",
              "    <tr>\n",
              "      <th>50%</th>\n",
              "      <td>50000.000000</td>\n",
              "      <td>99.000000</td>\n",
              "    </tr>\n",
              "    <tr>\n",
              "      <th>75%</th>\n",
              "      <td>75000.000000</td>\n",
              "      <td>146.000000</td>\n",
              "    </tr>\n",
              "    <tr>\n",
              "      <th>max</th>\n",
              "      <td>100000.000000</td>\n",
              "      <td>350.000000</td>\n",
              "    </tr>\n",
              "  </tbody>\n",
              "</table>\n",
              "</div>\n",
              "      <button class=\"colab-df-convert\" onclick=\"convertToInteractive('df-28fa9f02-fc1c-474c-8693-524da4f25ef6')\"\n",
              "              title=\"Convert this dataframe to an interactive table.\"\n",
              "              style=\"display:none;\">\n",
              "        \n",
              "  <svg xmlns=\"http://www.w3.org/2000/svg\" height=\"24px\"viewBox=\"0 0 24 24\"\n",
              "       width=\"24px\">\n",
              "    <path d=\"M0 0h24v24H0V0z\" fill=\"none\"/>\n",
              "    <path d=\"M18.56 5.44l.94 2.06.94-2.06 2.06-.94-2.06-.94-.94-2.06-.94 2.06-2.06.94zm-11 1L8.5 8.5l.94-2.06 2.06-.94-2.06-.94L8.5 2.5l-.94 2.06-2.06.94zm10 10l.94 2.06.94-2.06 2.06-.94-2.06-.94-.94-2.06-.94 2.06-2.06.94z\"/><path d=\"M17.41 7.96l-1.37-1.37c-.4-.4-.92-.59-1.43-.59-.52 0-1.04.2-1.43.59L10.3 9.45l-7.72 7.72c-.78.78-.78 2.05 0 2.83L4 21.41c.39.39.9.59 1.41.59.51 0 1.02-.2 1.41-.59l7.78-7.78 2.81-2.81c.8-.78.8-2.07 0-2.86zM5.41 20L4 18.59l7.72-7.72 1.47 1.35L5.41 20z\"/>\n",
              "  </svg>\n",
              "      </button>\n",
              "      \n",
              "  <style>\n",
              "    .colab-df-container {\n",
              "      display:flex;\n",
              "      flex-wrap:wrap;\n",
              "      gap: 12px;\n",
              "    }\n",
              "\n",
              "    .colab-df-convert {\n",
              "      background-color: #E8F0FE;\n",
              "      border: none;\n",
              "      border-radius: 50%;\n",
              "      cursor: pointer;\n",
              "      display: none;\n",
              "      fill: #1967D2;\n",
              "      height: 32px;\n",
              "      padding: 0 0 0 0;\n",
              "      width: 32px;\n",
              "    }\n",
              "\n",
              "    .colab-df-convert:hover {\n",
              "      background-color: #E2EBFA;\n",
              "      box-shadow: 0px 1px 2px rgba(60, 64, 67, 0.3), 0px 1px 3px 1px rgba(60, 64, 67, 0.15);\n",
              "      fill: #174EA6;\n",
              "    }\n",
              "\n",
              "    [theme=dark] .colab-df-convert {\n",
              "      background-color: #3B4455;\n",
              "      fill: #D2E3FC;\n",
              "    }\n",
              "\n",
              "    [theme=dark] .colab-df-convert:hover {\n",
              "      background-color: #434B5C;\n",
              "      box-shadow: 0px 1px 3px 1px rgba(0, 0, 0, 0.15);\n",
              "      filter: drop-shadow(0px 1px 2px rgba(0, 0, 0, 0.3));\n",
              "      fill: #FFFFFF;\n",
              "    }\n",
              "  </style>\n",
              "\n",
              "      <script>\n",
              "        const buttonEl =\n",
              "          document.querySelector('#df-28fa9f02-fc1c-474c-8693-524da4f25ef6 button.colab-df-convert');\n",
              "        buttonEl.style.display =\n",
              "          google.colab.kernel.accessAllowed ? 'block' : 'none';\n",
              "\n",
              "        async function convertToInteractive(key) {\n",
              "          const element = document.querySelector('#df-28fa9f02-fc1c-474c-8693-524da4f25ef6');\n",
              "          const dataTable =\n",
              "            await google.colab.kernel.invokeFunction('convertToInteractive',\n",
              "                                                     [key], {});\n",
              "          if (!dataTable) return;\n",
              "\n",
              "          const docLinkHtml = 'Like what you see? Visit the ' +\n",
              "            '<a target=\"_blank\" href=https://colab.research.google.com/notebooks/data_table.ipynb>data table notebook</a>'\n",
              "            + ' to learn more about interactive tables.';\n",
              "          element.innerHTML = '';\n",
              "          dataTable['output_type'] = 'display_data';\n",
              "          await google.colab.output.renderOutput(dataTable, element);\n",
              "          const docLink = document.createElement('div');\n",
              "          docLink.innerHTML = docLinkHtml;\n",
              "          element.appendChild(docLink);\n",
              "        }\n",
              "      </script>\n",
              "    </div>\n",
              "  </div>\n",
              "  "
            ]
          },
          "metadata": {},
          "execution_count": 7
        }
      ]
    },
    {
      "cell_type": "code",
      "source": [
        "df.mode()['Steps'][0]"
      ],
      "metadata": {
        "colab": {
          "base_uri": "https://localhost:8080/"
        },
        "id": "XUAR5wcornfN",
        "outputId": "95c85fdc-3a9a-4b08-8566-eec6df6f35b6"
      },
      "execution_count": 14,
      "outputs": [
        {
          "output_type": "execute_result",
          "data": {
            "text/plain": [
              "71.0"
            ]
          },
          "metadata": {},
          "execution_count": 14
        }
      ]
    },
    {
      "cell_type": "code",
      "source": [
        "df['Parity']=['even' if i%2==0 else 'odd' for i in range(bound+1)]\n",
        "df.head()"
      ],
      "metadata": {
        "colab": {
          "base_uri": "https://localhost:8080/",
          "height": 206
        },
        "id": "sCeosYpqsrzW",
        "outputId": "11522535-de6e-4aa1-84b9-0902751716cc"
      },
      "execution_count": 17,
      "outputs": [
        {
          "output_type": "execute_result",
          "data": {
            "text/plain": [
              "   Int  Steps Parity\n",
              "0    0      0   even\n",
              "1    1      0    odd\n",
              "2    2      1   even\n",
              "3    3      7    odd\n",
              "4    4      2   even"
            ],
            "text/html": [
              "\n",
              "  <div id=\"df-fb57e990-904f-4af6-aa1f-6ca0d127a17f\">\n",
              "    <div class=\"colab-df-container\">\n",
              "      <div>\n",
              "<style scoped>\n",
              "    .dataframe tbody tr th:only-of-type {\n",
              "        vertical-align: middle;\n",
              "    }\n",
              "\n",
              "    .dataframe tbody tr th {\n",
              "        vertical-align: top;\n",
              "    }\n",
              "\n",
              "    .dataframe thead th {\n",
              "        text-align: right;\n",
              "    }\n",
              "</style>\n",
              "<table border=\"1\" class=\"dataframe\">\n",
              "  <thead>\n",
              "    <tr style=\"text-align: right;\">\n",
              "      <th></th>\n",
              "      <th>Int</th>\n",
              "      <th>Steps</th>\n",
              "      <th>Parity</th>\n",
              "    </tr>\n",
              "  </thead>\n",
              "  <tbody>\n",
              "    <tr>\n",
              "      <th>0</th>\n",
              "      <td>0</td>\n",
              "      <td>0</td>\n",
              "      <td>even</td>\n",
              "    </tr>\n",
              "    <tr>\n",
              "      <th>1</th>\n",
              "      <td>1</td>\n",
              "      <td>0</td>\n",
              "      <td>odd</td>\n",
              "    </tr>\n",
              "    <tr>\n",
              "      <th>2</th>\n",
              "      <td>2</td>\n",
              "      <td>1</td>\n",
              "      <td>even</td>\n",
              "    </tr>\n",
              "    <tr>\n",
              "      <th>3</th>\n",
              "      <td>3</td>\n",
              "      <td>7</td>\n",
              "      <td>odd</td>\n",
              "    </tr>\n",
              "    <tr>\n",
              "      <th>4</th>\n",
              "      <td>4</td>\n",
              "      <td>2</td>\n",
              "      <td>even</td>\n",
              "    </tr>\n",
              "  </tbody>\n",
              "</table>\n",
              "</div>\n",
              "      <button class=\"colab-df-convert\" onclick=\"convertToInteractive('df-fb57e990-904f-4af6-aa1f-6ca0d127a17f')\"\n",
              "              title=\"Convert this dataframe to an interactive table.\"\n",
              "              style=\"display:none;\">\n",
              "        \n",
              "  <svg xmlns=\"http://www.w3.org/2000/svg\" height=\"24px\"viewBox=\"0 0 24 24\"\n",
              "       width=\"24px\">\n",
              "    <path d=\"M0 0h24v24H0V0z\" fill=\"none\"/>\n",
              "    <path d=\"M18.56 5.44l.94 2.06.94-2.06 2.06-.94-2.06-.94-.94-2.06-.94 2.06-2.06.94zm-11 1L8.5 8.5l.94-2.06 2.06-.94-2.06-.94L8.5 2.5l-.94 2.06-2.06.94zm10 10l.94 2.06.94-2.06 2.06-.94-2.06-.94-.94-2.06-.94 2.06-2.06.94z\"/><path d=\"M17.41 7.96l-1.37-1.37c-.4-.4-.92-.59-1.43-.59-.52 0-1.04.2-1.43.59L10.3 9.45l-7.72 7.72c-.78.78-.78 2.05 0 2.83L4 21.41c.39.39.9.59 1.41.59.51 0 1.02-.2 1.41-.59l7.78-7.78 2.81-2.81c.8-.78.8-2.07 0-2.86zM5.41 20L4 18.59l7.72-7.72 1.47 1.35L5.41 20z\"/>\n",
              "  </svg>\n",
              "      </button>\n",
              "      \n",
              "  <style>\n",
              "    .colab-df-container {\n",
              "      display:flex;\n",
              "      flex-wrap:wrap;\n",
              "      gap: 12px;\n",
              "    }\n",
              "\n",
              "    .colab-df-convert {\n",
              "      background-color: #E8F0FE;\n",
              "      border: none;\n",
              "      border-radius: 50%;\n",
              "      cursor: pointer;\n",
              "      display: none;\n",
              "      fill: #1967D2;\n",
              "      height: 32px;\n",
              "      padding: 0 0 0 0;\n",
              "      width: 32px;\n",
              "    }\n",
              "\n",
              "    .colab-df-convert:hover {\n",
              "      background-color: #E2EBFA;\n",
              "      box-shadow: 0px 1px 2px rgba(60, 64, 67, 0.3), 0px 1px 3px 1px rgba(60, 64, 67, 0.15);\n",
              "      fill: #174EA6;\n",
              "    }\n",
              "\n",
              "    [theme=dark] .colab-df-convert {\n",
              "      background-color: #3B4455;\n",
              "      fill: #D2E3FC;\n",
              "    }\n",
              "\n",
              "    [theme=dark] .colab-df-convert:hover {\n",
              "      background-color: #434B5C;\n",
              "      box-shadow: 0px 1px 3px 1px rgba(0, 0, 0, 0.15);\n",
              "      filter: drop-shadow(0px 1px 2px rgba(0, 0, 0, 0.3));\n",
              "      fill: #FFFFFF;\n",
              "    }\n",
              "  </style>\n",
              "\n",
              "      <script>\n",
              "        const buttonEl =\n",
              "          document.querySelector('#df-fb57e990-904f-4af6-aa1f-6ca0d127a17f button.colab-df-convert');\n",
              "        buttonEl.style.display =\n",
              "          google.colab.kernel.accessAllowed ? 'block' : 'none';\n",
              "\n",
              "        async function convertToInteractive(key) {\n",
              "          const element = document.querySelector('#df-fb57e990-904f-4af6-aa1f-6ca0d127a17f');\n",
              "          const dataTable =\n",
              "            await google.colab.kernel.invokeFunction('convertToInteractive',\n",
              "                                                     [key], {});\n",
              "          if (!dataTable) return;\n",
              "\n",
              "          const docLinkHtml = 'Like what you see? Visit the ' +\n",
              "            '<a target=\"_blank\" href=https://colab.research.google.com/notebooks/data_table.ipynb>data table notebook</a>'\n",
              "            + ' to learn more about interactive tables.';\n",
              "          element.innerHTML = '';\n",
              "          dataTable['output_type'] = 'display_data';\n",
              "          await google.colab.output.renderOutput(dataTable, element);\n",
              "          const docLink = document.createElement('div');\n",
              "          docLink.innerHTML = docLinkHtml;\n",
              "          element.appendChild(docLink);\n",
              "        }\n",
              "      </script>\n",
              "    </div>\n",
              "  </div>\n",
              "  "
            ]
          },
          "metadata": {},
          "execution_count": 17
        }
      ]
    },
    {
      "cell_type": "code",
      "source": [
        "sns.set_style(\"whitegrid\")\n",
        "sns.relplot(data=df,x='Int',y='Steps',col='Parity',s=5, kind='scatter')"
      ],
      "metadata": {
        "colab": {
          "base_uri": "https://localhost:8080/",
          "height": 344
        },
        "id": "wr-RMt6WuGG9",
        "outputId": "324bfc4b-3bae-4ff5-c99f-d117bc9b0cdf"
      },
      "execution_count": 29,
      "outputs": [
        {
          "output_type": "execute_result",
          "data": {
            "text/plain": [
              "<seaborn.axisgrid.FacetGrid at 0x7f4784a1a090>"
            ]
          },
          "metadata": {},
          "execution_count": 29
        },
        {
          "output_type": "display_data",
          "data": {
            "text/plain": [
              "<Figure size 720x360 with 2 Axes>"
            ],
            "image/png": "[encoded data removed]"
          },
          "metadata": {}
        }
      ]
    },
    {
      "cell_type": "markdown",
      "source": [
        "# Modular Mathematics"
      ],
      "metadata": {
        "id": "b6YmIQbnW-rp"
      }
    },
    {
      "cell_type": "markdown",
      "source": [
        "First, a function that uses the Euclidean algorithm to calculate GCD. This function prints each division step too."
      ],
      "metadata": {
        "id": "dpwqFkqfeT5Y"
      }
    },
    {
      "cell_type": "code",
      "source": [
        "def egcd_w_print(a,b):\n",
        "  '''Computes GCD(a,b) using the Euclidean algorithm.\n",
        "  Prints formatted division steps.'''\n",
        "  r=max(a,b)%min(a,b)\n",
        "  c=min(a,b)\n",
        "  if r==0:\n",
        "    print('GCD({},{})={}'.format(a,b,c))\n",
        "    return\n",
        "  print('{}={}({})+{}'.format(max(a,b),max(a,b)//c,c,r))\n",
        "  while c%r != 0:\n",
        "    d=c\n",
        "    s=r\n",
        "    r=c%r\n",
        "    c=s\n",
        "    print('{}={}({})+{}'.format(d,d//s,s,r))\n",
        "  print('GCD({},{})={}'.format(a,b,r))\n"
      ],
      "metadata": {
        "id": "DxgEBZabXEdg"
      },
      "execution_count": null,
      "outputs": []
    },
    {
      "cell_type": "code",
      "source": [
        "egcd_w_print(133,85)"
      ],
      "metadata": {
        "colab": {
          "base_uri": "https://localhost:8080/"
        },
        "id": "4jbJxaT-Z39z",
        "outputId": "db4cd424-4d2b-4de2-bdf2-724a3403fc8d"
      },
      "execution_count": null,
      "outputs": [
        {
          "output_type": "stream",
          "name": "stdout",
          "text": [
            "133=1(85)+48\n",
            "85=1(48)+37\n",
            "48=1(37)+11\n",
            "37=3(11)+4\n",
            "11=2(4)+3\n",
            "4=1(3)+1\n",
            "GCD(133,85)=1\n"
          ]
        }
      ]
    },
    {
      "cell_type": "code",
      "source": [
        "egcd_w_print(91,49)"
      ],
      "metadata": {
        "colab": {
          "base_uri": "https://localhost:8080/"
        },
        "id": "gPKvWlp0eMXB",
        "outputId": "57f634fb-44f6-4abb-be94-c1941e79bdea"
      },
      "execution_count": null,
      "outputs": [
        {
          "output_type": "stream",
          "name": "stdout",
          "text": [
            "91=1(49)+42\n",
            "49=1(42)+7\n",
            "GCD(91,49)=7\n"
          ]
        }
      ]
    },
    {
      "cell_type": "code",
      "source": [
        "egcd_w_print(121,11)"
      ],
      "metadata": {
        "colab": {
          "base_uri": "https://localhost:8080/"
        },
        "id": "YA-cq09Ug29w",
        "outputId": "aec3710e-fe8c-4312-ba3d-734eb87397ff"
      },
      "execution_count": null,
      "outputs": [
        {
          "output_type": "stream",
          "name": "stdout",
          "text": [
            "GCD(121,11)=11\n"
          ]
        }
      ]
    },
    {
      "cell_type": "markdown",
      "source": [
        "Next, the same function without all the extra printing."
      ],
      "metadata": {
        "id": "EsJKBVZEeieg"
      }
    },
    {
      "cell_type": "code",
      "source": [
        "def gcd(a,b):\n",
        "  '''Computes GCD(a,b) using the Euclidean algorithm.'''\n",
        "  if a==0:\n",
        "    return b\n",
        "  if b==0:\n",
        "    return a\n",
        "  c=min(a,b)\n",
        "  r=max(a,b)%c\n",
        "  if r==0:\n",
        "    return c\n",
        "  while c%r != 0: #while remainder is nonzero\n",
        "    s=r\n",
        "    r=c%r\n",
        "    c=s\n",
        "  return r"
      ],
      "metadata": {
        "id": "UxZC5yCDenO4"
      },
      "execution_count": 3,
      "outputs": []
    },
    {
      "cell_type": "code",
      "source": [
        "print(gcd(171,57),gcd(2,2),gcd(11,121),gcd(91,49))"
      ],
      "metadata": {
        "colab": {
          "base_uri": "https://localhost:8080/"
        },
        "id": "1JNpjK-DfqxI",
        "outputId": "8d3ab047-c658-4827-89b8-ebeb32d6a0d0"
      },
      "execution_count": null,
      "outputs": [
        {
          "output_type": "stream",
          "name": "stdout",
          "text": [
            "57 2 11 7\n"
          ]
        }
      ]
    },
    {
      "cell_type": "markdown",
      "source": [
        "# RSA Encryption\n",
        "\n",
        "Named for the first researchers to publish the method (Rivest, Shamir, Adleman), RSA is an asymmetric encryption method based on a simple number theoretic result: for $p,q$ large primes, it is computationally difficult to factor $N:=pq$ without knowledge of the factors."
      ],
      "metadata": {
        "id": "EOyoyYmvEiLS"
      }
    },
    {
      "cell_type": "markdown",
      "source": [
        "Below code to make RSA work until I write my own mod inverse. (The function pow(a,-1,N) gives the inverse of a mod N, but this requries Python v3.8+)."
      ],
      "metadata": {
        "id": "DxOVtyWsGFDf"
      }
    },
    {
      "cell_type": "code",
      "source": [
        "# adapted from https://stackoverflow.com/a/9758173\n",
        "\n",
        "def modinv(a, m):\n",
        "  def egcd(a, b):\n",
        "    if a == 0:\n",
        "        return (b, 0, 1)\n",
        "    else:\n",
        "        g, y, x = egcd(b % a, a)\n",
        "        return (g, x - (b // a) * y, y)\n",
        "  ###\n",
        "  g, x, y = egcd(a, m)\n",
        "  if g != 1:\n",
        "      raise Exception('modular inverse does not exist')\n",
        "  else:\n",
        "      return x % m"
      ],
      "metadata": {
        "id": "phWF9dTXf9Tq"
      },
      "execution_count": null,
      "outputs": []
    },
    {
      "cell_type": "markdown",
      "source": [
        "## Message Encryption"
      ],
      "metadata": {
        "id": "L4VZwN-zJ_67"
      }
    },
    {
      "cell_type": "code",
      "source": [
        "# encoding dictionary\n",
        "rsa_alphabet={' ':'00','a':'01','b':'02','c':'03','d':'04','e':'05',\n",
        "              'f':'06','g':'07','h':'08','i':'09','j':'10','k':'11',\n",
        "              'l':'12','m':'13','n':'14','o':'15','p':'16','q':'17',\n",
        "              'r':'18','s':'19','t':'20','u':'21','v':'22','w':'23',\n",
        "              'x':'24','y':'25','z':'26'}\n",
        "# decoding dictionary\n",
        "inv_dict={num:let for let,num in rsa_alphabet.items()}"
      ],
      "metadata": {
        "id": "6N8cq8cfKRaj"
      },
      "execution_count": null,
      "outputs": []
    },
    {
      "cell_type": "code",
      "source": [
        "# message to digits\n",
        "mess=str(input(\"message:\"))\n",
        "m=''\n",
        "for let in mess:\n",
        "  m+=rsa_alphabet[let]\n",
        "print(m)"
      ],
      "metadata": {
        "colab": {
          "base_uri": "https://localhost:8080/"
        },
        "id": "f-4tlJOPKo2f",
        "outputId": "a5bcc219-4a58-4f3a-9ecd-04e214e02171"
      },
      "execution_count": null,
      "outputs": [
        {
          "output_type": "stream",
          "name": "stdout",
          "text": [
            "message:hello\n",
            "0805121215\n"
          ]
        }
      ]
    },
    {
      "cell_type": "markdown",
      "source": [
        "RSA encryption functions."
      ],
      "metadata": {
        "id": "cXlj6EkgjmWL"
      }
    },
    {
      "cell_type": "code",
      "source": [
        "def mess_to_int(mess):\n",
        "  '''Translates string to int via RSA dictionary.\n",
        "  Must declare rsa_alphabet first.'''\n",
        "  m=''\n",
        "  for let in mess:\n",
        "    if let not in rsa_alphabet:\n",
        "      raise Exception('invalid character; lower case english and space allowed')\n",
        "    m+=rsa_alphabet[let]\n",
        "  return int(m)\n",
        "  \n",
        "def rsa_encrypt(message,modulus,exponent):\n",
        "  '''Encrypts a string with RSA encryption.\n",
        "  Only lower case characters and spaces allowed.\n",
        "  Limited by size of modulus. \n",
        "  Note: public key=(modulus,exponent).'''\n",
        "  c=pow(mess_to_int(message),exponent,modulus)\n",
        "  return c\n"
      ],
      "metadata": {
        "id": "CyanJhx6Pn7R"
      },
      "execution_count": null,
      "outputs": []
    },
    {
      "cell_type": "code",
      "source": [
        "# test\n",
        "rsa_encrypt('hi',9167,13)"
      ],
      "metadata": {
        "colab": {
          "base_uri": "https://localhost:8080/",
          "height": 37
        },
        "id": "4wL80XFBOQQO",
        "outputId": "ad5c728b-75cf-4a34-e505-f8934e2008a2"
      },
      "execution_count": null,
      "outputs": [
        {
          "output_type": "execute_result",
          "data": {
            "text/plain": [
              "6294"
            ],
            "image/png": "[encoded data removed]",
            "text/latex": "$\\displaystyle 6294$"
          },
          "metadata": {},
          "execution_count": 183
        }
      ]
    },
    {
      "cell_type": "markdown",
      "source": [
        "## Message Decryption"
      ],
      "metadata": {
        "id": "zJOqMhSmKG3-"
      }
    },
    {
      "cell_type": "markdown",
      "source": [
        "Brief test first. With $N=9167,p=89,q=103,e=13$, encrypting 'hi' yields $c=6294$. (Note 'hi'=0809.)\n",
        "\n",
        "This example comes from: Weissman, Martin H.. An Illustrated Theory of Numbers. United States: American Mathematical Society, 2017. (page 186)"
      ],
      "metadata": {
        "id": "rC7jlChoIF9f"
      }
    },
    {
      "cell_type": "code",
      "source": [
        "def rsa_test(p,q,e):\n",
        "  '''This is just to test'''\n",
        "  N=p*q\n",
        "  phi_N=(p-1)*(q-1)\n",
        "  d=modinv(e,phi_N)\n",
        "  m=int(input(\"Message:\"))\n",
        "  print(pow(m,d,N))"
      ],
      "metadata": {
        "id": "EFO-W_WmCY2r"
      },
      "execution_count": null,
      "outputs": []
    },
    {
      "cell_type": "code",
      "source": [
        "rsa_test(89,103,13)"
      ],
      "metadata": {
        "colab": {
          "base_uri": "https://localhost:8080/"
        },
        "id": "kMzaEfzjWnTH",
        "outputId": "51fbd5f4-9dd5-438e-c913-4375ce2bd3ac"
      },
      "execution_count": null,
      "outputs": [
        {
          "output_type": "stream",
          "name": "stdout",
          "text": [
            "Message:6294\n",
            "809\n"
          ]
        }
      ]
    },
    {
      "cell_type": "markdown",
      "source": [
        "Define functions for initializing RSA keys and decrypting."
      ],
      "metadata": {
        "id": "OVKCxJ_gjZaB"
      }
    },
    {
      "cell_type": "code",
      "source": [
        "def init_rsa(p,q):\n",
        "  '''Decryption setup. Generates a public key\n",
        "  given the private keys. Returns (N,e,d),\n",
        "  where (N,e) is the public key and\n",
        "  d is the decryption key.'''\n",
        "  fine=False\n",
        "  while not fine:\n",
        "    e=int(input('Suggest exponent:'))\n",
        "    if gcd(e,(p-1)*(q-1))==1:\n",
        "      fine=True\n",
        "  d=modinv(e,(p-1)*(q-1))\n",
        "  return (p*q,e,d)\n",
        "\n",
        "def rsa_decrypt(cipher):\n",
        "  '''Decrypt RSA cypher.'''\n",
        "  m=str(pow(cipher,d,N))\n",
        "  if len(m)%2==1:\n",
        "    m='0'+m\n",
        "  split_list=[m[i:i+2] for i in range(0,len(m),2)]\n",
        "  mess=''\n",
        "  for num in split_list:\n",
        "    mess+=inv_dict[num]\n",
        "  return mess"
      ],
      "metadata": {
        "id": "D882Qf6mW1tM"
      },
      "execution_count": null,
      "outputs": []
    },
    {
      "cell_type": "code",
      "source": [
        "rsa_decrypt(6294)"
      ],
      "metadata": {
        "colab": {
          "base_uri": "https://localhost:8080/",
          "height": 35
        },
        "id": "j_35RiFHaKp9",
        "outputId": "8dbb8341-7023-4a44-809f-2fcf341394b9"
      },
      "execution_count": null,
      "outputs": [
        {
          "output_type": "execute_result",
          "data": {
            "text/plain": [
              "'hi'"
            ],
            "application/vnd.google.colaboratory.intrinsic+json": {
              "type": "string"
            }
          },
          "metadata": {},
          "execution_count": 155
        }
      ]
    },
    {
      "cell_type": "markdown",
      "source": [
        "## Working Example"
      ],
      "metadata": {
        "id": "VYr94TpRWhCm"
      }
    },
    {
      "cell_type": "code",
      "source": [
        "(N,e,d)=init_rsa(101,859)\n",
        "print(N,e)"
      ],
      "metadata": {
        "colab": {
          "base_uri": "https://localhost:8080/"
        },
        "id": "w2hbC0apVHUL",
        "outputId": "a9d0b44b-4746-444b-fade-72094fa6e833"
      },
      "execution_count": null,
      "outputs": [
        {
          "output_type": "stream",
          "name": "stdout",
          "text": [
            "Suggest exponent:7\n",
            "86759 7\n"
          ]
        }
      ]
    },
    {
      "cell_type": "code",
      "source": [
        "rsa_encrypt('hey',N,e)"
      ],
      "metadata": {
        "colab": {
          "base_uri": "https://localhost:8080/",
          "height": 37
        },
        "id": "Ujg7-EN-fQp6",
        "outputId": "476bbdc8-ac01-4da5-c290-55b938328952"
      },
      "execution_count": null,
      "outputs": [
        {
          "output_type": "execute_result",
          "data": {
            "text/plain": [
              "30866"
            ],
            "image/png": "[encoded data removed]",
            "text/latex": "$\\displaystyle 30866$"
          },
          "metadata": {},
          "execution_count": 166
        }
      ]
    },
    {
      "cell_type": "code",
      "source": [
        "rsa_decrypt(30866)"
      ],
      "metadata": {
        "colab": {
          "base_uri": "https://localhost:8080/",
          "height": 35
        },
        "id": "ocU_aqTIf33o",
        "outputId": "f51c72b5-10ca-4bce-921d-b017ed32910c"
      },
      "execution_count": null,
      "outputs": [
        {
          "output_type": "execute_result",
          "data": {
            "text/plain": [
              "'hey'"
            ],
            "application/vnd.google.colaboratory.intrinsic+json": {
              "type": "string"
            }
          },
          "metadata": {},
          "execution_count": 167
        }
      ]
    },
    {
      "cell_type": "code",
      "source": [
        "(N,e,d)=init_rsa(33533,77977)"
      ],
      "metadata": {
        "colab": {
          "base_uri": "https://localhost:8080/"
        },
        "id": "BC4_MJlwf8F7",
        "outputId": "281ad5db-5734-47a6-d38d-d9b5fe728543"
      },
      "execution_count": null,
      "outputs": [
        {
          "name": "stdout",
          "output_type": "stream",
          "text": [
            "Suggest exponent:91\n"
          ]
        }
      ]
    },
    {
      "cell_type": "code",
      "source": [
        "rsa_decrypt(rsa_encrypt('hello',N,e))"
      ],
      "metadata": {
        "colab": {
          "base_uri": "https://localhost:8080/",
          "height": 35
        },
        "id": "to9vAUI-gUYs",
        "outputId": "c9b94d39-30bd-4d80-f75f-5bd133c57ac4"
      },
      "execution_count": null,
      "outputs": [
        {
          "output_type": "execute_result",
          "data": {
            "text/plain": [
              "'hello'"
            ],
            "application/vnd.google.colaboratory.intrinsic+json": {
              "type": "string"
            }
          },
          "metadata": {},
          "execution_count": 179
        }
      ]
    },
    {
      "cell_type": "markdown",
      "source": [
        "Choose bigger primes for longer messages. With $p=335333$ and $q=77977$, we get $N=2614802741$, so we can encode messages of length at most five."
      ],
      "metadata": {
        "id": "Twkb1e5ViwYX"
      }
    },
    {
      "cell_type": "markdown",
      "source": [
        "# Factorials"
      ],
      "metadata": {
        "id": "uxoTEmI8zrT6"
      }
    },
    {
      "cell_type": "code",
      "source": [
        "def fac(n):\n",
        "  '''The factorial function\n",
        "  for positive integers.'''\n",
        "  if n==1:\n",
        "    return 1\n",
        "  else:\n",
        "    return n*fac(n-1)\n",
        "\n",
        "from sympy import gamma\n",
        "\n",
        "def efac(x):\n",
        "  '''Extended factorial function.\n",
        "  Takes positive real-valued inputs.'''\n",
        "  return gamma(x+1)"
      ],
      "metadata": {
        "id": "nu_vdqdQzsZt"
      },
      "execution_count": null,
      "outputs": []
    },
    {
      "cell_type": "code",
      "source": [
        "print(fac(4),efac(4))"
      ],
      "metadata": {
        "colab": {
          "base_uri": "https://localhost:8080/"
        },
        "id": "fR-NExh5z0wi",
        "outputId": "5c28bb50-872b-4218-fa6e-a7e1f776ac3a"
      },
      "execution_count": null,
      "outputs": [
        {
          "output_type": "stream",
          "name": "stdout",
          "text": [
            "24 24\n"
          ]
        }
      ]
    },
    {
      "cell_type": "markdown",
      "source": [
        "Using the gamma function allows us to extend the classic discrete factorial function to a positive real-valued continuous function. We recover the usual behavior for integers, but we gain continuity. See below.\n",
        "\n",
        "(The gamma function is actually complex-valued, but we just use it for real calculation. [See here for details.](https://en.wikipedia.org/wiki/Gamma_function))"
      ],
      "metadata": {
        "id": "X9Zd744a3j5J"
      }
    },
    {
      "cell_type": "code",
      "source": [
        "import numpy as np\n",
        "import matplotlib.pyplot as plt\n",
        "\n",
        "x_axis=np.linspace(0,6,601)\n",
        "y=[efac(x) for x in x_axis]\n",
        "\n",
        "plt.plot(x,y)\n",
        "plt.title('Continuous x! for 0<=x<=1')\n",
        "plt.xlabel('x')\n",
        "plt.ylabel('extended factorial')\n",
        "plt.show\n"
      ],
      "metadata": {
        "colab": {
          "base_uri": "https://localhost:8080/",
          "height": 313
        },
        "id": "10wf2230z12j",
        "outputId": "9e8cdd18-4286-4c45-e535-68f8c4108565"
      },
      "execution_count": null,
      "outputs": [
        {
          "output_type": "execute_result",
          "data": {
            "text/plain": [
              "<function matplotlib.pyplot.show>"
            ]
          },
          "metadata": {},
          "execution_count": 25
        },
        {
          "output_type": "display_data",
          "data": {
            "text/plain": [
              "<Figure size 432x288 with 1 Axes>"
            ],
            "image/png": "[encoded data removed]"
          },
          "metadata": {
            "needs_background": "light"
          }
        }
      ]
    },
    {
      "cell_type": "markdown",
      "source": [
        "# Fast Fibonacci\n",
        "\n",
        "There are quicker ways to calculate the $n^{th}$ Fibonacci number than simple recursion."
      ],
      "metadata": {
        "id": "316ABiNH7d5m"
      }
    },
    {
      "cell_type": "markdown",
      "source": [
        "## Matrix Exponentiation"
      ],
      "metadata": {
        "id": "FPfC5Cza85F1"
      }
    },
    {
      "cell_type": "code",
      "source": [
        "import numpy as np\n",
        "\n",
        "# Terrible warning: For some implementation or resource\n",
        "# reason, this function stops working after n=92. See below.\n",
        "\n",
        "def fib_mat_exp(n):\n",
        "  '''Calculates the nth Fibonacci\n",
        "  number using matrix eponentiation.'''\n",
        "  f=np.linalg.matrix_power([[1,1],[1,0]],n-1)\n",
        "  return f[0][0]"
      ],
      "metadata": {
        "id": "5FElLmjq2l-P"
      },
      "execution_count": 65,
      "outputs": []
    },
    {
      "cell_type": "code",
      "source": [
        "fib_mat_exp(17)"
      ],
      "metadata": {
        "colab": {
          "base_uri": "https://localhost:8080/"
        },
        "id": "t5ttDnMrmThd",
        "outputId": "cb6fd561-2730-4597-d330-8529305569e6"
      },
      "execution_count": 53,
      "outputs": [
        {
          "output_type": "execute_result",
          "data": {
            "text/plain": [
              "1597"
            ]
          },
          "metadata": {},
          "execution_count": 53
        }
      ]
    },
    {
      "cell_type": "code",
      "source": [
        "# The trouble it seems, is that \n",
        "# the matrix exponentiation method eventually\n",
        "# stops returning the correct answer.\n",
        "# I suspect it's an issue with resources or the \n",
        "# implementation of numpy.linalg.matrix_power.\n",
        "def lazy_fib(n):\n",
        "  '''Classic Fibonacci.'''\n",
        "  a=0;b=1\n",
        "  for i in range(n-1):\n",
        "    c=a+b\n",
        "    a=b\n",
        "    b=c\n",
        "  return c"
      ],
      "metadata": {
        "id": "DhW_qzGp1SVN"
      },
      "execution_count": 46,
      "outputs": []
    },
    {
      "cell_type": "code",
      "source": [
        "a=np.linalg.matrix_power([[1,1],[1,0]],1000)[0][0]\n",
        "b=lazy_fib(1000)\n",
        "a==b"
      ],
      "metadata": {
        "colab": {
          "base_uri": "https://localhost:8080/"
        },
        "id": "_dMO9OVjm1Lc",
        "outputId": "96e960fd-e355-45fc-a361-bfb7e9328eca"
      },
      "execution_count": 47,
      "outputs": [
        {
          "output_type": "execute_result",
          "data": {
            "text/plain": [
              "False"
            ]
          },
          "metadata": {},
          "execution_count": 47
        }
      ]
    },
    {
      "cell_type": "code",
      "source": [
        "test_num=100\n",
        "a=np.linalg.matrix_power([[1,1],[1,0]],test_num-1)[0][0]\n",
        "b=lazy_fib(test_num)\n",
        "print(a,b)\n",
        "print(len(str(a)),len(str(b)))\n",
        "print(a==b)\n",
        "while not a==b:\n",
        "  a=np.linalg.matrix_power([[1,1],[1,0]],test_num-1)[0][0]\n",
        "  b=lazy_fib(test_num)\n",
        "  print(a,b)\n",
        "  print(len(str(a)),len(str(b)))\n",
        "  print(a==b,test_num)\n",
        "  test_num=test_num-1"
      ],
      "metadata": {
        "colab": {
          "base_uri": "https://localhost:8080/"
        },
        "id": "b0utL9Fs11EI",
        "outputId": "d6a92dcd-fb6d-4a78-d19c-e5c42546cd65"
      },
      "execution_count": 64,
      "outputs": [
        {
          "output_type": "stream",
          "name": "stdout",
          "text": [
            "3736710778780434371 354224848179261915075\n",
            "19 21\n",
            "False\n",
            "3736710778780434371 354224848179261915075\n",
            "19 21\n",
            "False 100\n",
            "-2437933049959450366 218922995834555169026\n",
            "20 21\n",
            "False 99\n",
            "6174643828739884737 135301852344706746049\n",
            "19 21\n",
            "False 98\n",
            "-8612576878699335103 83621143489848422977\n",
            "20 20\n",
            "False 97\n",
            "-3659523366270331776 51680708854858323072\n",
            "20 20\n",
            "False 96\n",
            "-4953053512429003327 31940434634990099905\n",
            "20 20\n",
            "False 95\n",
            "1293530146158671551 19740274219868223167\n",
            "19 20\n",
            "False 94\n",
            "-6246583658587674878 12200160415121876738\n",
            "20 20\n",
            "False 93\n",
            "7540113804746346429 7540113804746346429\n",
            "19 19\n",
            "True 92\n"
          ]
        }
      ]
    },
    {
      "cell_type": "markdown",
      "source": [
        "So the matrix exponentiation method stops returning the correct answer after $n=92$. Darn.\n",
        "\n",
        "This seems to be an issue with the practicalities of computing this way, i.e., resources or implementation. The theory is sound, and this *should* work for arbitrarily large $n$."
      ],
      "metadata": {
        "id": "3gHRmHOF3hzn"
      }
    },
    {
      "cell_type": "markdown",
      "source": [
        "## Fast Doubling"
      ],
      "metadata": {
        "id": "_2jg6OGA885x"
      }
    },
    {
      "cell_type": "code",
      "source": [
        "# This dictionary increases the working range of fd_fib()\n",
        "fib_dict={0:0,1:1}\n",
        "plist=prime_list(100000)\n",
        "for i in range(2,plist[-1]+1):\n",
        "  fib_dict[i]=fib_dict[i-1]+fib_dict[i-2]\n",
        "for i in range(2,plist[-1]+1):\n",
        "  if i not in plist:\n",
        "    fib_dict.pop(i)"
      ],
      "metadata": {
        "id": "Iqwha65h9BF1"
      },
      "execution_count": 110,
      "outputs": []
    },
    {
      "cell_type": "code",
      "source": [
        "def fd_fib(n):\n",
        "  '''Another Fibonacci algorithm;\n",
        "  this one uses fast doubling.'''\n",
        "  if n in fib_dict:\n",
        "    return fib_dict[n]\n",
        "  if n==1:\n",
        "    return 1\n",
        "  if n%2==0:\n",
        "    f=fd_fib(n//2)\n",
        "    return f*(2*fd_fib((n//2)+1)-f)\n",
        "  else:\n",
        "    k=(n-1)//2\n",
        "    return fd_fib(k+1)**2+fd_fib(k)**2"
      ],
      "metadata": {
        "id": "MqcfvZ702Bs3"
      },
      "execution_count": 111,
      "outputs": []
    },
    {
      "cell_type": "code",
      "source": [
        "fd_fib(42)"
      ],
      "metadata": {
        "colab": {
          "base_uri": "https://localhost:8080/"
        },
        "id": "R-TdnUkC7Zw7",
        "outputId": "f33a8940-2a70-4d9b-d970-f8e1f6b9aca8"
      },
      "execution_count": 102,
      "outputs": [
        {
          "output_type": "execute_result",
          "data": {
            "text/plain": [
              "267914296"
            ]
          },
          "metadata": {},
          "execution_count": 102
        }
      ]
    },
    {
      "cell_type": "code",
      "source": [
        "fd_fib(94)==lazy_fib(94)"
      ],
      "metadata": {
        "colab": {
          "base_uri": "https://localhost:8080/"
        },
        "id": "KwEMbQEZ7zpS",
        "outputId": "54ba2218-27f0-475c-9b9e-404265eb00d0"
      },
      "execution_count": 106,
      "outputs": [
        {
          "output_type": "execute_result",
          "data": {
            "text/plain": [
              "True"
            ]
          },
          "metadata": {},
          "execution_count": 106
        }
      ]
    },
    {
      "cell_type": "code",
      "source": [
        "# length of the last entry in dictionary\n",
        "len(str(fib_dict[plist[-1]]))"
      ],
      "metadata": {
        "colab": {
          "base_uri": "https://localhost:8080/"
        },
        "id": "2Y5TkfxbBZe0",
        "outputId": "f88d2321-f88b-4fb5-cdd9-2f5b7ae002a5"
      },
      "execution_count": 109,
      "outputs": [
        {
          "output_type": "execute_result",
          "data": {
            "text/plain": [
              "20897"
            ]
          },
          "metadata": {},
          "execution_count": 109
        }
      ]
    },
    {
      "cell_type": "markdown",
      "source": [
        "With the dictionary of Fibonacci numbers and simpler calculation, fd_fib() will work for any reasonable input. The length of the dictionary is wayyyy overboard, but then I'll never have to worry. With a too-small dictionary, the function times out because the recursion depth is too great."
      ],
      "metadata": {
        "id": "ZBQA6C9uCiZh"
      }
    },
    {
      "cell_type": "code",
      "source": [
        "print('The 10,000th Fibonacci number is:')\n",
        "a=fd_fib(10000)\n",
        "print(a)\n",
        "print(\"That's on the order of 10**{}!!\".format(len(str(a))))"
      ],
      "metadata": {
        "colab": {
          "base_uri": "https://localhost:8080/"
        },
        "id": "0tlBu_5zDmlJ",
        "outputId": "18d7cb49-b9c7-40dd-faf8-17b02c12922f"
      },
      "execution_count": 120,
      "outputs": [
        {
          "output_type": "stream",
          "name": "stdout",
          "text": [
            "The 10,000th Fibonacci number is:\n",
            "33644764876431783266621612005107543310302148460680063906564769974680081442166662368155595513633734025582065332680836159373734790483865268263040892463056431887354544369559827491606602099884183933864652731300088830269235673613135117579297437854413752130520504347701602264758318906527890855154366159582987279682987510631200575428783453215515103870818298969791613127856265033195487140214287532698187962046936097879900350962302291026368131493195275630227837628441540360584402572114334961180023091208287046088923962328835461505776583271252546093591128203925285393434620904245248929403901706233888991085841065183173360437470737908552631764325733993712871937587746897479926305837065742830161637408969178426378624212835258112820516370298089332099905707920064367426202389783111470054074998459250360633560933883831923386783056136435351892133279732908133732642652633989763922723407882928177953580570993691049175470808931841056146322338217465637321248226383092103297701648054726243842374862411453093812206564914032751086643394517512161526545361333111314042436854805106765843493523836959653428071768775328348234345557366719731392746273629108210679280784718035329131176778924659089938635459327894523777674406192240337638674004021330343297496902028328145933418826817683893072003634795623117103101291953169794607632737589253530772552375943788434504067715555779056450443016640119462580972216729758615026968443146952034614932291105970676243268515992834709891284706740862008587135016260312071903172086094081298321581077282076353186624611278245537208532365305775956430072517744315051539600905168603220349163222640885248852433158051534849622434848299380905070483482449327453732624567755879089187190803662058009594743150052402532709746995318770724376825907419939632265984147498193609285223945039707165443156421328157688908058783183404917434556270520223564846495196112460268313970975069382648706613264507665074611512677522748621598642530711298441182622661057163515069260029861704945425047491378115154139941550671256271197133252763631939606902895650288268608362241082050562430701794976171121233066073310059947366875\n",
            "That's on the order of 10**2090!!\n"
          ]
        }
      ]
    }
  ]
}