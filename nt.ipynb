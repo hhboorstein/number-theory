{
  "nbformat": 4,
  "nbformat_minor": 0,
  "metadata": {
    "colab": {
      "name": "nt.ipynb",
      "provenance": [],
      "authorship_tag": "ABX9TyMaPUqgs21wWaZl9LPqUnJn",
      "include_colab_link": true
    },
    "kernelspec": {
      "name": "python3",
      "display_name": "Python 3"
    },
    "language_info": {
      "name": "python"
    }
  },
  "cells": [
    {
      "cell_type": "markdown",
      "metadata": {
        "id": "view-in-github",
        "colab_type": "text"
      },
      "source": [
        "<a href=\"https://colab.research.google.com/github/hhboorstein/number-theory/blob/main/nt.ipynb\" target=\"_parent\"><img src=\"https://colab.research.google.com/assets/colab-badge.svg\" alt=\"Open In Colab\"/></a>"
      ]
    },
    {
      "cell_type": "markdown",
      "source": [
        "# Prime Projects"
      ],
      "metadata": {
        "id": "PJBA7KIoQAbv"
      }
    },
    {
      "cell_type": "markdown",
      "source": [
        "## Prime Number Generator\n",
        "\n",
        "Calculates primes up to a user-defined bound. Checks each positive integer for prime divisibility, and appends the candidate if prime."
      ],
      "metadata": {
        "id": "dspYWbEbQAEL"
      }
    },
    {
      "cell_type": "code",
      "source": [
        "import numpy as np\n",
        "\n",
        "def prime_list(bound):\n",
        "  '''Make a list of prime numbers\n",
        "  up to bound. Requires numpy package.'''\n",
        "  primes=[]\n",
        "  for i in range(2,bound+1):\n",
        "    proceed=True\n",
        "    for p in primes:\n",
        "      if np.sqrt(i)<p:\n",
        "        break\n",
        "      if i%p==0:\n",
        "        proceed=False\n",
        "        break\n",
        "      else:\n",
        "        continue\n",
        "    if proceed==True:\n",
        "      primes.append(i)\n",
        "  return primes"
      ],
      "metadata": {
        "id": "5ENX4y-8QiLs"
      },
      "execution_count": 2,
      "outputs": []
    },
    {
      "cell_type": "code",
      "source": [
        "print(prime_list(100))"
      ],
      "metadata": {
        "colab": {
          "base_uri": "https://localhost:8080/"
        },
        "id": "8mrziNkNQpjT",
        "outputId": "34790d79-168f-456f-cf45-049557733a79"
      },
      "execution_count": 4,
      "outputs": [
        {
          "output_type": "stream",
          "name": "stdout",
          "text": [
            "[2, 3, 5, 7, 11, 13, 17, 19, 23, 29, 31, 37, 41, 43, 47, 53, 59, 61, 67, 71, 73, 79, 83, 89, 97]\n"
          ]
        }
      ]
    },
    {
      "cell_type": "markdown",
      "source": [
        "## Sieve of Eratosthenes\n",
        "\n",
        "Another technique for calculating prime numbers up to a user-specified bound. The difference here is that all multiples of primes are sieved out at once, and what's left must be prime."
      ],
      "metadata": {
        "id": "5iUUcT2hRbNN"
      }
    },
    {
      "cell_type": "code",
      "source": [
        "def sieve(bound):\n",
        "  '''Sieves out primes\n",
        "  up to bound.'''\n",
        "  bound +=1\n",
        "  primes=range(2,bound) #this will only contain primes at the end\n",
        "  for i in range(2,bound):\n",
        "    if i**2>bound: #more optimized halting condition\n",
        "      break\n",
        "    if i in primes:\n",
        "      mult_i=[i*j for j in range(i,(bound//i)+1)] #list of prime mults\n",
        "      primes=[n for n in primes if n not in mult_i] #sieve out mult_i\n",
        "  return primes"
      ],
      "metadata": {
        "id": "q8qjPekSQupX"
      },
      "execution_count": 5,
      "outputs": []
    },
    {
      "cell_type": "code",
      "source": [
        "print(sieve(100))"
      ],
      "metadata": {
        "colab": {
          "base_uri": "https://localhost:8080/"
        },
        "id": "09SK6zgqTBhf",
        "outputId": "f48b4e55-1f18-45fd-a027-052ffb6f2bec"
      },
      "execution_count": 7,
      "outputs": [
        {
          "output_type": "stream",
          "name": "stdout",
          "text": [
            "[2, 3, 5, 7, 11, 13, 17, 19, 23, 29, 31, 37, 41, 43, 47, 53, 59, 61, 67, 71, 73, 79, 83, 89, 97]\n"
          ]
        }
      ]
    },
    {
      "cell_type": "code",
      "source": [
        "print(sieve(100)==prime_list(100))"
      ],
      "metadata": {
        "colab": {
          "base_uri": "https://localhost:8080/"
        },
        "id": "qTmts_yKTDUy",
        "outputId": "360bc62d-c4e0-42a1-f59c-b6e78b8d29f3"
      },
      "execution_count": 8,
      "outputs": [
        {
          "output_type": "stream",
          "name": "stdout",
          "text": [
            "True\n"
          ]
        }
      ]
    },
    {
      "cell_type": "code",
      "source": [
        "#which is faster?\n",
        "import time\n",
        "\n",
        "a=10000\n",
        "\n",
        "t0=time.time()\n",
        "prime_list(a)\n",
        "t1=time.time()\n",
        "print('prime_list takes',t1-t0,'seconds')\n",
        "\n",
        "t2=time.time()\n",
        "sieve(a)\n",
        "t3=time.time()\n",
        "print('sieve takes', t3-t2,'seconds')"
      ],
      "metadata": {
        "colab": {
          "base_uri": "https://localhost:8080/"
        },
        "id": "LGuchCPkTKVT",
        "outputId": "0e5c3f79-fb1d-481e-9b64-97af59fea443"
      },
      "execution_count": 13,
      "outputs": [
        {
          "output_type": "stream",
          "name": "stdout",
          "text": [
            "prime_list takes 0.089752197265625 seconds\n",
            "sieve takes 1.0314862728118896 seconds\n"
          ]
        }
      ]
    },
    {
      "cell_type": "markdown",
      "source": [
        "It looks like the prime_list function is faster than the sieve approach. For primes up to 100,000, prime_list took one second and I interrupted sieve after a minute. Huge difference. There are surely ways to further optimize both."
      ],
      "metadata": {
        "id": "AwfWIYZlURxi"
      }
    },
    {
      "cell_type": "markdown",
      "source": [
        "## Twin Primes\n",
        "\n",
        "Using the prime_list function, the following counts the number of twin prime pairs up to a bound and records the pairs as tuples. (Requires declaration of prime_list function.)"
      ],
      "metadata": {
        "id": "-dshYwum6Q21"
      }
    },
    {
      "cell_type": "code",
      "source": [
        "print(\"We will be finding the number of twin primes, \\n i.e., primes that differ by 2, \\n up to a given bound.\")\n",
        "b=int(input(\"Input bound: \"))\n",
        "primes=prime_list(b)\n",
        "twins=[]\n",
        "count=0\n",
        "for i in range(len(primes)-1):\n",
        "  if primes[i]+2==primes[i+1]:\n",
        "    count+=1\n",
        "    twins.append((primes[i],primes[i+1]))\n",
        "print(\"There are\", count, \"pairs of twin primes up to\", b)\n",
        "print(\"The twin primes less than\", b, \"are:\")\n",
        "print(twins)"
      ],
      "metadata": {
        "colab": {
          "base_uri": "https://localhost:8080/"
        },
        "id": "9RVQOZhMTneF",
        "outputId": "359733f4-30a9-44b7-a83c-0f8350086707"
      },
      "execution_count": 3,
      "outputs": [
        {
          "output_type": "stream",
          "name": "stdout",
          "text": [
            "We will be finding the number of twin primes, \n",
            " i.e., primes that differ by 2, \n",
            " up to a given bound.\n",
            "Input bound: 100\n",
            "There are 8 pairs of twin primes up to 100\n",
            "The twin primes less than 100 are:\n",
            "[(3, 5), (5, 7), (11, 13), (17, 19), (29, 31), (41, 43), (59, 61), (71, 73)]\n"
          ]
        }
      ]
    },
    {
      "cell_type": "code",
      "source": [
        ""
      ],
      "metadata": {
        "id": "DLc7x17B6riH"
      },
      "execution_count": null,
      "outputs": []
    },
    {
      "cell_type": "markdown",
      "source": [
        "# Collatz\n",
        "\n",
        "The Collatz conjecture is an open problem in number theory that is simple to state. For a positive integer $n$, we consider the following function: $f(n)=n/2$ if $n$ is even, otherwise $f(n)=3n+1$.\n",
        "\n",
        "It seems that after sufficiently many steps, any positive integer will reach $1$. It is unknown whether this is indeed true for all positive integers. While [experimental evidence](https://en.wikipedia.org/wiki/Collatz_conjecture#Experimental_evidence) shows that all *reasonable* numbers do reach $1$, a max_step halting condition is included for completeness and the practicalities of limited computing resources."
      ],
      "metadata": {
        "id": "_9PZzyhQ78Xl"
      }
    },
    {
      "cell_type": "code",
      "source": [
        "def collatz(n,max_step):\n",
        "  '''\n",
        "  Runs the Collatz function\n",
        "  on n; returns number of steps to 1.\n",
        "  Will time out after max_step.\n",
        "  '''\n",
        "  #Hardcode n=0 case so it doesn't\n",
        "  #have to loop max_step times to get step=0\n",
        "  if n==0:\n",
        "    return 0\n",
        "  #general logic\n",
        "  step=0\n",
        "  while n!=1:\n",
        "    #timeout condition\n",
        "    if step>max_step:\n",
        "      return 0\n",
        "    #collatz function\n",
        "    if n%2==0:\n",
        "      n=n//2\n",
        "    else:\n",
        "      n=3*n+1\n",
        "    step+=1\n",
        "  return step"
      ],
      "metadata": {
        "id": "ApK27mbX7-KA"
      },
      "execution_count": 4,
      "outputs": []
    },
    {
      "cell_type": "code",
      "source": [
        "import numpy as np\n",
        "import pandas as pd\n",
        "\n",
        "print(\"This will graph the number of steps it takes \\n for integers to complete the Collatz procedure.\")\n",
        "bound=int(input(\"Calculate for integers up to: \"))\n",
        "u=int(input(\"Upper bound of computation for each integer: \"))\n",
        "\n",
        "#Create step list\n",
        "step_list=[collatz(n,u) for n in range(bound+1)]\n",
        "\n",
        "#generate dataframe\n",
        "#two columns: integers, steps\n",
        "df=pd.DataFrame([[i,step_list[i]] for i in range(bound+1)],columns=['Int','Steps'])\n",
        "\n",
        "#dotsize helps with graph readability\n",
        "dotsize=1000/bound\n",
        "\n",
        "#plot data\n",
        "col=df.plot.scatter('Int','Steps',s=dotsize,c='DarkBlue',title='Number of Collatz steps')"
      ],
      "metadata": {
        "colab": {
          "base_uri": "https://localhost:8080/",
          "height": 366
        },
        "id": "GER2BDsw-PXT",
        "outputId": "2f4ac87c-32f1-48fd-d921-bbf116880c5a"
      },
      "execution_count": 10,
      "outputs": [
        {
          "name": "stdout",
          "output_type": "stream",
          "text": [
            "This will graph the number of steps it takes \n",
            " for integers to complete the Collatz procedure.\n",
            "Calculate for integers up to: 100000\n",
            "Upper bound of computation for each integer: 400\n"
          ]
        },
        {
          "output_type": "display_data",
          "data": {
            "text/plain": [
              "<Figure size 432x288 with 1 Axes>"
            ],
            "image/png": "[encoded data removed]"
          },
          "metadata": {
            "needs_background": "light"
          }
        }
      ]
    },
    {
      "cell_type": "code",
      "source": [
        ""
      ],
      "metadata": {
        "id": "Oy56fFU__HuC"
      },
      "execution_count": null,
      "outputs": []
    }
  ]
}