{
  "nbformat": 4,
  "nbformat_minor": 0,
  "metadata": {
    "colab": {
      "name": "rings_sympy.ipynb",
      "provenance": [],
      "authorship_tag": "ABX9TyNq1Q9jBIcVNww/hEyu8BHV",
      "include_colab_link": true
    },
    "kernelspec": {
      "name": "python3",
      "display_name": "Python 3"
    },
    "language_info": {
      "name": "python"
    }
  },
  "cells": [
    {
      "cell_type": "markdown",
      "metadata": {
        "id": "view-in-github",
        "colab_type": "text"
      },
      "source": [
        "<a href=\"https://colab.research.google.com/github/hhboorstein/number-theory/blob/main/rings_sympy.ipynb\" target=\"_parent\"><img src=\"https://colab.research.google.com/assets/colab-badge.svg\" alt=\"Open In Colab\"/></a>"
      ]
    },
    {
      "cell_type": "markdown",
      "source": [
        "## Symbolic Mathematics\n",
        "\n",
        "This is a space to practice symbolic mathematics, particularly ring theory."
      ],
      "metadata": {
        "id": "5oT_4nbzD4sf"
      }
    },
    {
      "cell_type": "code",
      "execution_count": null,
      "metadata": {
        "id": "tbwhHGbaDprF"
      },
      "outputs": [],
      "source": [
        ""
      ]
    }
  ]
}